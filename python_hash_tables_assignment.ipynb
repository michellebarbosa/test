{
  "nbformat": 4,
  "nbformat_minor": 5,
  "metadata": {
    "colab": {
      "name": "python-hash-tables-assignment.ipynb",
      "provenance": [],
      "collapsed_sections": [
        "grand-suspect",
        "verbal-study",
        "adaptive-attraction",
        "boolean-letter"
      ],
      "include_colab_link": true
    },
    "kernelspec": {
      "display_name": "Python 3",
      "language": "python",
      "name": "python3"
    },
    "language_info": {
      "codemirror_mode": {
        "name": "ipython",
        "version": 3
      },
      "file_extension": ".py",
      "mimetype": "text/x-python",
      "name": "python",
      "nbconvert_exporter": "python",
      "pygments_lexer": "ipython3",
      "version": "3.6.12"
    }
  },
  "cells": [
    {
      "cell_type": "markdown",
      "metadata": {
        "id": "view-in-github",
        "colab_type": "text"
      },
      "source": [
        "<a href=\"https://colab.research.google.com/github/michellebarbosa/test/blob/master/python_hash_tables_assignment.ipynb\" target=\"_parent\"><img src=\"https://colab.research.google.com/assets/colab-badge.svg\" alt=\"Open In Colab\"/></a>"
      ]
    },
    {
      "cell_type": "code",
      "metadata": {
        "id": "shaped-macro"
      },
      "source": [
        "# Jovian Commit Essentials\n",
        "# Please retain and execute this cell without modifying the contents for `jovian.commit` to work\n",
        "!pip install jovian --upgrade -q\n",
        "import jovian\n",
        "jovian.set_project('python-hash-tables-assignment')\n",
        "jovian.set_colab_id('1lUzzrapGsbQccbtrDJAJcpq0b6OHHscl')"
      ],
      "id": "shaped-macro",
      "execution_count": 1,
      "outputs": []
    },
    {
      "cell_type": "markdown",
      "metadata": {
        "id": "meaningful-charleston"
      },
      "source": [
        "# Assignment 2 - Hash Tables in Python\n",
        "\n",
        "_This assignment is a part of the course [\"Data Structures and Algorithms in Python\"](https://jovian.ai/learn/data-structures-and-algorithms-in-python)._\n",
        "\n",
        "In this assignment, you will implement Python dictionaries from scratch using hash tables.\n",
        "\n",
        "As you go through this notebook, you will find the symbol **???** in certain places. To complete this assignment, you must replace all the **???** with appropriate values, expressions or statements to ensure that the notebook runs properly end-to-end. \n",
        "\n",
        "**Guidelines**\n",
        "\n",
        "1. Make sure to run all the code cells, otherwise you may get errors like `NameError` for undefined variables.\n",
        "2. Do not change variable names, delete cells or disturb other existing code. It may cause problems during evaluation.\n",
        "3. In some cases, you may need to add some code cells or new statements before or after the line of code containing the **???**. \n",
        "4. Since you'll be using a temporary online service for code execution, save your work by running `jovian.commit` at regular intervals.\n",
        "5. Questions marked **(Optional)** will not be considered for evaluation, and can be skipped. They are for your learning.\n",
        "6. If you are stuck, you can ask for help on the [community forum](https://jovian.ai/forum/c/data-structures-and-algorithms-in-python/assignment-2/88). Post errors or ask for hints, but **please don't ask for OR share the full working answer code** on the forum.\n",
        "7. There are some tests included with this notebook to help you test your implementation. However, after submission your code will be tested with some hidden test cases. Make sure to test your code exhaustively to cover all edge cases.\n",
        "\n",
        "\n",
        "**Important Links**\n",
        "\n",
        "* Submit your work here: https://jovian.ai/learn/data-structures-and-algorithms-in-python/assignment/assignment-2-hash-table-and-python-dictionaries\n",
        "* Ask questions and get help: https://jovian.ai/forum/c/data-structures-and-algorithms-in-python/assignment-2/88\n",
        "* Lesson 2 video for review: https://jovian.ai/aakashns/python-binary-search-trees\n",
        "* Lesson 2 notebook for review: https://jovian.ai/aakashns/python-binary-search-trees\n",
        "\n",
        "\n",
        "\n"
      ],
      "id": "meaningful-charleston"
    },
    {
      "cell_type": "markdown",
      "metadata": {
        "id": "distributed-police"
      },
      "source": [
        "### How to Run the Code and Save Your Work\n",
        "\n",
        "**Option 1: Running using free online resources (1-click, recommended)**: Click the **Run** button at the top of this page and select **Run on Binder**. You can also select \"Run on Colab\" or \"Run on Kaggle\", but you'll need to create an account on [Google Colab](https://colab.research.google.com) or [Kaggle](https://kaggle.com) to use these platforms.\n",
        "\n",
        "\n",
        "**Option 2: Running on your computer locally**: To run the code on your computer locally, you'll need to set up [Python](https://www.python.org) & [Conda](https://docs.conda.io/projects/conda/en/latest/user-guide/install/), download the notebook and install the required libraries. Click the **Run** button at the top of this page, select the **Run Locally** option, and follow the instructions.\n",
        "\n",
        "**Saving your work**: You can save a snapshot of the assignment to your [Jovian](https://jovian.ai) profile, so that you can access it later and continue your work. Keep saving your work by running `jovian.commit` from time to time."
      ],
      "id": "distributed-police"
    },
    {
      "cell_type": "code",
      "metadata": {
        "id": "transparent-nelson"
      },
      "source": [
        "project='python-hash-tables-assignment'"
      ],
      "id": "transparent-nelson",
      "execution_count": 2,
      "outputs": []
    },
    {
      "cell_type": "code",
      "metadata": {
        "id": "completed-borough"
      },
      "source": [
        "!pip install jovian --upgrade --quiet"
      ],
      "id": "completed-borough",
      "execution_count": 3,
      "outputs": []
    },
    {
      "cell_type": "code",
      "metadata": {
        "colab": {
          "base_uri": "https://localhost:8080/",
          "height": 86
        },
        "id": "technical-parks",
        "outputId": "10116347-1d64-4464-cde0-8fdec4dc9f38"
      },
      "source": [
        "import jovian\n",
        "jovian.commit(project=project, privacy='secret', environment=None)"
      ],
      "id": "technical-parks",
      "execution_count": 4,
      "outputs": [
        {
          "output_type": "stream",
          "text": [
            "[jovian] Detected Colab notebook...\u001b[0m\n",
            "[jovian] Uploading colab notebook to Jovian...\u001b[0m\n",
            "[jovian] Committed successfully! https://jovian.ai/michellebarbosa789/python-hash-tables-assignment\u001b[0m\n"
          ],
          "name": "stdout"
        },
        {
          "output_type": "execute_result",
          "data": {
            "application/vnd.google.colaboratory.intrinsic+json": {
              "type": "string"
            },
            "text/plain": [
              "'https://jovian.ai/michellebarbosa789/python-hash-tables-assignment'"
            ]
          },
          "metadata": {
            "tags": []
          },
          "execution_count": 4
        }
      ]
    },
    {
      "cell_type": "markdown",
      "metadata": {
        "id": "closed-notification"
      },
      "source": [
        "## Problem Statement - Python Dictionaries and Hash Tables\n",
        "\n",
        "In this assignment, you will recreate Python dictionaries from scratch using data structure called *hash table*. Dictionaries in Python are used to store key-value pairs. Keys are used to store and retrieve values. For example, here's a dictionary for storing and retrieving phone numbers using people's names. "
      ],
      "id": "closed-notification"
    },
    {
      "cell_type": "code",
      "metadata": {
        "colab": {
          "base_uri": "https://localhost:8080/"
        },
        "id": "progressive-techno",
        "outputId": "bad733c9-d820-4ada-84a4-c2ad7f30de00"
      },
      "source": [
        "phone_numbers = {\n",
        "  'Aakash' : '9489484949',\n",
        "  'Hemanth' : '9595949494',\n",
        "  'Siddhant' : '9231325312'\n",
        "}\n",
        "phone_numbers"
      ],
      "id": "progressive-techno",
      "execution_count": 5,
      "outputs": [
        {
          "output_type": "execute_result",
          "data": {
            "text/plain": [
              "{'Aakash': '9489484949', 'Hemanth': '9595949494', 'Siddhant': '9231325312'}"
            ]
          },
          "metadata": {
            "tags": []
          },
          "execution_count": 5
        }
      ]
    },
    {
      "cell_type": "markdown",
      "metadata": {
        "id": "miniature-batch"
      },
      "source": [
        "You can access a person's phone number using their name as follows:"
      ],
      "id": "miniature-batch"
    },
    {
      "cell_type": "code",
      "metadata": {
        "colab": {
          "base_uri": "https://localhost:8080/",
          "height": 35
        },
        "id": "sapphire-creativity",
        "outputId": "e65887f1-d8a6-413a-b5ff-e3ec66d67a93"
      },
      "source": [
        "phone_numbers['Aakash']"
      ],
      "id": "sapphire-creativity",
      "execution_count": 6,
      "outputs": [
        {
          "output_type": "execute_result",
          "data": {
            "application/vnd.google.colaboratory.intrinsic+json": {
              "type": "string"
            },
            "text/plain": [
              "'9489484949'"
            ]
          },
          "metadata": {
            "tags": []
          },
          "execution_count": 6
        }
      ]
    },
    {
      "cell_type": "markdown",
      "metadata": {
        "id": "exact-geometry"
      },
      "source": [
        "You can store new phone numbers, or update existing ones as follows:"
      ],
      "id": "exact-geometry"
    },
    {
      "cell_type": "code",
      "metadata": {
        "colab": {
          "base_uri": "https://localhost:8080/"
        },
        "id": "generic-devon",
        "outputId": "422e0f37-c4f7-470f-f93a-65f729fac13e"
      },
      "source": [
        "# Add a new value\n",
        "phone_numbers['Vishal'] = '8787878787'\n",
        "# Update existing value\n",
        "phone_numbers['Aakash'] = '7878787878'\n",
        "# View the updated dictionary\n",
        "phone_numbers"
      ],
      "id": "generic-devon",
      "execution_count": 7,
      "outputs": [
        {
          "output_type": "execute_result",
          "data": {
            "text/plain": [
              "{'Aakash': '7878787878',\n",
              " 'Hemanth': '9595949494',\n",
              " 'Siddhant': '9231325312',\n",
              " 'Vishal': '8787878787'}"
            ]
          },
          "metadata": {
            "tags": []
          },
          "execution_count": 7
        }
      ]
    },
    {
      "cell_type": "markdown",
      "metadata": {
        "id": "legendary-hawaiian"
      },
      "source": [
        "You can also view all the names and phone numbers stored in `phone_numbers` using a `for` loop."
      ],
      "id": "legendary-hawaiian"
    },
    {
      "cell_type": "code",
      "metadata": {
        "colab": {
          "base_uri": "https://localhost:8080/"
        },
        "id": "rising-capture",
        "outputId": "bdfedfdc-29df-4cb9-824b-9578ee365037"
      },
      "source": [
        "for name in phone_numbers:\n",
        "    print('Name:', name, ', Phone Number:', phone_numbers[name])"
      ],
      "id": "rising-capture",
      "execution_count": 8,
      "outputs": [
        {
          "output_type": "stream",
          "text": [
            "Name: Aakash , Phone Number: 7878787878\n",
            "Name: Hemanth , Phone Number: 9595949494\n",
            "Name: Siddhant , Phone Number: 9231325312\n",
            "Name: Vishal , Phone Number: 8787878787\n"
          ],
          "name": "stdout"
        }
      ]
    },
    {
      "cell_type": "markdown",
      "metadata": {
        "id": "bearing-beijing"
      },
      "source": [
        "Dictionaries in Python are implemented using a data structure called **hash table**. A hash table uses a list/array to store the key-value pairs, and uses a _hashing function_ to determine the index for storing or retrieving the data associated with a given key. \n",
        "\n",
        "Here's a visual representation of a hash table ([source](https://en.wikipedia.org/wiki/Hash_table)):\n",
        "\n",
        "<img src=\"https://i.imgur.com/5dPEmuY.png\" width=\"480\">\n",
        "\n",
        "Your objective in this assignment is to implement a `HashTable` class which supports the following operations:\n",
        "\n",
        "1. **Insert**: Insert a new key-value pair\n",
        "2. **Find**: Find the value associated with a key\n",
        "3. **Update**: Update the value associated with a key\n",
        "5. **List**: List all the keys stored in the hash table\n",
        "\n",
        "The `HashTable` class will have the following structure (note the function signatures):"
      ],
      "id": "bearing-beijing"
    },
    {
      "cell_type": "code",
      "metadata": {
        "id": "offensive-elephant"
      },
      "source": [
        "class HashTable:\n",
        "    def insert(self, key, value):\n",
        "        \"\"\"Insert a new key-value pair\"\"\"\n",
        "        pass\n",
        "    \n",
        "    def find(self, key):\n",
        "        \"\"\"Find the value associated with a key\"\"\"\n",
        "        pass\n",
        "    \n",
        "    def update(self, key, value):\n",
        "        \"\"\"Change the value associated with a key\"\"\"\n",
        "        pass\n",
        "    \n",
        "    def list_all(self):\n",
        "        \"\"\"List all the keys\"\"\"\n",
        "        pass"
      ],
      "id": "offensive-elephant",
      "execution_count": 9,
      "outputs": []
    },
    {
      "cell_type": "markdown",
      "metadata": {
        "id": "italic-contamination"
      },
      "source": [
        "Before we begin our implementation, let's save and commit our work."
      ],
      "id": "italic-contamination"
    },
    {
      "cell_type": "code",
      "metadata": {
        "colab": {
          "base_uri": "https://localhost:8080/",
          "height": 103
        },
        "id": "listed-compilation",
        "outputId": "0cdc6e53-ab24-4e79-b626-a3528e777fbc"
      },
      "source": [
        "jovian.commit(project=project)"
      ],
      "id": "listed-compilation",
      "execution_count": 10,
      "outputs": [
        {
          "output_type": "stream",
          "text": [
            "[jovian] Detected Colab notebook...\u001b[0m\n",
            "[jovian] Uploading colab notebook to Jovian...\u001b[0m\n",
            "[jovian] Capturing environment..\u001b[0m\n",
            "[jovian] Committed successfully! https://jovian.ai/michellebarbosa789/python-hash-tables-assignment\u001b[0m\n"
          ],
          "name": "stdout"
        },
        {
          "output_type": "execute_result",
          "data": {
            "application/vnd.google.colaboratory.intrinsic+json": {
              "type": "string"
            },
            "text/plain": [
              "'https://jovian.ai/michellebarbosa789/python-hash-tables-assignment'"
            ]
          },
          "metadata": {
            "tags": []
          },
          "execution_count": 10
        }
      ]
    },
    {
      "cell_type": "markdown",
      "metadata": {
        "id": "measured-daughter"
      },
      "source": [
        "### Data List\n",
        "\n",
        "We'll build the `HashTable` class step-by-step. As a first step is to create a Python list which will hold all the key-value pairs. We'll start by creating a list of a fixed size.\n",
        "\n"
      ],
      "id": "measured-daughter"
    },
    {
      "cell_type": "code",
      "metadata": {
        "id": "failing-science"
      },
      "source": [
        "MAX_HASH_TABLE_SIZE = 4096"
      ],
      "id": "failing-science",
      "execution_count": 11,
      "outputs": []
    },
    {
      "cell_type": "markdown",
      "metadata": {
        "id": "hungarian-recorder"
      },
      "source": [
        "**QUESTION 1: Create a Python list of size `MAX_HASH_TABLE_SIZE`, with all the values set to `None`.**\n",
        "\n",
        "_Hint_: Use the [`*` operator](https://stackoverflow.com/questions/3459098/create-list-of-single-item-repeated-n-times)."
      ],
      "id": "hungarian-recorder"
    },
    {
      "cell_type": "code",
      "metadata": {
        "id": "attractive-inventory"
      },
      "source": [
        "# List of size MAX_HASH_TABLE_SIZE with all values None\n",
        "data_list = [None]*MAX_HASH_TABLE_SIZE"
      ],
      "id": "attractive-inventory",
      "execution_count": 12,
      "outputs": []
    },
    {
      "cell_type": "markdown",
      "metadata": {
        "id": "dramatic-telescope"
      },
      "source": [
        "If the list was created successfully, the following cells should output `True`."
      ],
      "id": "dramatic-telescope"
    },
    {
      "cell_type": "code",
      "metadata": {
        "colab": {
          "base_uri": "https://localhost:8080/"
        },
        "id": "offshore-mentor",
        "outputId": "d49e4b84-ae62-49b6-9a0f-bc9189618b3b"
      },
      "source": [
        "len(data_list) == 4096"
      ],
      "id": "offshore-mentor",
      "execution_count": 13,
      "outputs": [
        {
          "output_type": "execute_result",
          "data": {
            "text/plain": [
              "True"
            ]
          },
          "metadata": {
            "tags": []
          },
          "execution_count": 13
        }
      ]
    },
    {
      "cell_type": "code",
      "metadata": {
        "colab": {
          "base_uri": "https://localhost:8080/"
        },
        "id": "virgin-cathedral",
        "outputId": "269ec976-7236-4c36-b0ef-868a6ff6350b"
      },
      "source": [
        "data_list[99] == None"
      ],
      "id": "virgin-cathedral",
      "execution_count": 14,
      "outputs": [
        {
          "output_type": "execute_result",
          "data": {
            "text/plain": [
              "True"
            ]
          },
          "metadata": {
            "tags": []
          },
          "execution_count": 14
        }
      ]
    },
    {
      "cell_type": "markdown",
      "metadata": {
        "id": "discrete-wings"
      },
      "source": [
        "Let's save our work before continuing."
      ],
      "id": "discrete-wings"
    },
    {
      "cell_type": "code",
      "metadata": {
        "colab": {
          "base_uri": "https://localhost:8080/",
          "height": 103
        },
        "id": "judicial-tattoo",
        "outputId": "e8e3c265-3d26-4036-9607-b8c6cda9676f"
      },
      "source": [
        "jovian.commit(project=project)"
      ],
      "id": "judicial-tattoo",
      "execution_count": 15,
      "outputs": [
        {
          "output_type": "stream",
          "text": [
            "[jovian] Detected Colab notebook...\u001b[0m\n",
            "[jovian] Uploading colab notebook to Jovian...\u001b[0m\n",
            "[jovian] Capturing environment..\u001b[0m\n",
            "[jovian] Committed successfully! https://jovian.ai/michellebarbosa789/python-hash-tables-assignment\u001b[0m\n"
          ],
          "name": "stdout"
        },
        {
          "output_type": "execute_result",
          "data": {
            "application/vnd.google.colaboratory.intrinsic+json": {
              "type": "string"
            },
            "text/plain": [
              "'https://jovian.ai/michellebarbosa789/python-hash-tables-assignment'"
            ]
          },
          "metadata": {
            "tags": []
          },
          "execution_count": 15
        }
      ]
    },
    {
      "cell_type": "markdown",
      "metadata": {
        "id": "least-glossary"
      },
      "source": [
        "### Hashing Function\n",
        "\n",
        "A _hashing function_ is used to convert strings and other non-numeric data types into numbers, which can then be used as list indices. For instance, if a hashing function converts the string `\"Aakash\"` into the number `4`, then the key-value pair `('Aakash', '7878787878')` will be stored at the position `4` within the data list.\n",
        "\n",
        "Here's a simple algorithm for hashing, which can convert strings into numeric list indices.\n",
        "\n",
        "1. Iterate over the string, character by character\n",
        "2. Convert each character to a number using Python's built-in `ord` function.\n",
        "3. Add the numbers for each character to obtain the hash for the entire string \n",
        "4. Take the remainder of the result with the size of the data list\n",
        "\n",
        "\n",
        "**QUESTION 2: Complete the `get_index` function below which implements the hashing algorithm described above.**"
      ],
      "id": "least-glossary"
    },
    {
      "cell_type": "code",
      "metadata": {
        "id": "literary-large"
      },
      "source": [
        "def get_index(data_list, a_string):\n",
        "\n",
        "    result = 0\n",
        "    \n",
        "    for a_character in a_string:\n",
        "        # Convert the character to a number (using ord)\n",
        "        a_number = ord(a_character)\n",
        "        # Update result by adding the number\n",
        "        result += a_number\n",
        "    \n",
        "    # Take the remainder of the result with the size of the data list\n",
        "    list_index = result % len(data_list) \n",
        "    return list_index"
      ],
      "id": "literary-large",
      "execution_count": 16,
      "outputs": []
    },
    {
      "cell_type": "markdown",
      "metadata": {
        "id": "terminal-partnership"
      },
      "source": [
        "If the `get_index` function was defined correctly, the following cells should output `True`."
      ],
      "id": "terminal-partnership"
    },
    {
      "cell_type": "code",
      "metadata": {
        "colab": {
          "base_uri": "https://localhost:8080/"
        },
        "id": "opposed-criticism",
        "outputId": "03072489-fa67-4767-9052-5fc60f02321c"
      },
      "source": [
        "get_index(data_list, '') == 0"
      ],
      "id": "opposed-criticism",
      "execution_count": 17,
      "outputs": [
        {
          "output_type": "execute_result",
          "data": {
            "text/plain": [
              "True"
            ]
          },
          "metadata": {
            "tags": []
          },
          "execution_count": 17
        }
      ]
    },
    {
      "cell_type": "code",
      "metadata": {
        "colab": {
          "base_uri": "https://localhost:8080/"
        },
        "id": "optimum-montana",
        "outputId": "8bd0947d-5c95-4918-f53a-ca245bbf57dc"
      },
      "source": [
        "get_index(data_list, 'Aakash') == 585"
      ],
      "id": "optimum-montana",
      "execution_count": 18,
      "outputs": [
        {
          "output_type": "execute_result",
          "data": {
            "text/plain": [
              "True"
            ]
          },
          "metadata": {
            "tags": []
          },
          "execution_count": 18
        }
      ]
    },
    {
      "cell_type": "code",
      "metadata": {
        "colab": {
          "base_uri": "https://localhost:8080/"
        },
        "id": "loved-ideal",
        "outputId": "0c57231b-db07-4a4d-bb21-4444eb9670ad"
      },
      "source": [
        "get_index(data_list, 'Don O Leary') == 941"
      ],
      "id": "loved-ideal",
      "execution_count": 19,
      "outputs": [
        {
          "output_type": "execute_result",
          "data": {
            "text/plain": [
              "True"
            ]
          },
          "metadata": {
            "tags": []
          },
          "execution_count": 19
        }
      ]
    },
    {
      "cell_type": "markdown",
      "metadata": {
        "id": "brown-tamil"
      },
      "source": [
        "(Optional) Test the `get_index` function using the empty cells below."
      ],
      "id": "brown-tamil"
    },
    {
      "cell_type": "code",
      "metadata": {
        "colab": {
          "base_uri": "https://localhost:8080/"
        },
        "id": "moving-lover",
        "outputId": "0ff8fa23-c74f-445d-8e1f-4bbf41bf927c"
      },
      "source": [
        "get_index(data_list, 'Enrich')"
      ],
      "id": "moving-lover",
      "execution_count": 20,
      "outputs": [
        {
          "output_type": "execute_result",
          "data": {
            "text/plain": [
              "601"
            ]
          },
          "metadata": {
            "tags": []
          },
          "execution_count": 20
        }
      ]
    },
    {
      "cell_type": "code",
      "metadata": {
        "colab": {
          "base_uri": "https://localhost:8080/"
        },
        "id": "dress-creator",
        "outputId": "907f34c7-3832-41c5-de61-e5b3cc754c68"
      },
      "source": [
        "get_index(data_list, 'Michelle') == 803"
      ],
      "id": "dress-creator",
      "execution_count": 21,
      "outputs": [
        {
          "output_type": "execute_result",
          "data": {
            "text/plain": [
              "True"
            ]
          },
          "metadata": {
            "tags": []
          },
          "execution_count": 21
        }
      ]
    },
    {
      "cell_type": "code",
      "metadata": {
        "colab": {
          "base_uri": "https://localhost:8080/"
        },
        "id": "buried-adrian",
        "outputId": "4c3b2d81-922c-4252-89ad-934bc4dce787"
      },
      "source": [
        "get_index(data_list, 'Enrich') == 601"
      ],
      "id": "buried-adrian",
      "execution_count": 22,
      "outputs": [
        {
          "output_type": "execute_result",
          "data": {
            "text/plain": [
              "True"
            ]
          },
          "metadata": {
            "tags": []
          },
          "execution_count": 22
        }
      ]
    },
    {
      "cell_type": "markdown",
      "metadata": {
        "id": "handy-mainland"
      },
      "source": [
        "#### Insert\n",
        "\n",
        "To insert a key-value pair into a hash table, we can simply get the hash of the key, and store the pair at that index in the data list."
      ],
      "id": "handy-mainland"
    },
    {
      "cell_type": "code",
      "metadata": {
        "id": "original-mortality"
      },
      "source": [
        "key, value = 'Aakash', '7878787878'"
      ],
      "id": "original-mortality",
      "execution_count": 23,
      "outputs": []
    },
    {
      "cell_type": "code",
      "metadata": {
        "colab": {
          "base_uri": "https://localhost:8080/"
        },
        "id": "restricted-stand",
        "outputId": "43249a8c-f5e8-4def-ea21-725c36859057"
      },
      "source": [
        "idx = get_index(data_list, key)\n",
        "idx"
      ],
      "id": "restricted-stand",
      "execution_count": 24,
      "outputs": [
        {
          "output_type": "execute_result",
          "data": {
            "text/plain": [
              "585"
            ]
          },
          "metadata": {
            "tags": []
          },
          "execution_count": 24
        }
      ]
    },
    {
      "cell_type": "code",
      "metadata": {
        "id": "reduced-replication"
      },
      "source": [
        "data_list[idx] = (key, value)"
      ],
      "id": "reduced-replication",
      "execution_count": 25,
      "outputs": []
    },
    {
      "cell_type": "markdown",
      "metadata": {
        "id": "surface-cincinnati"
      },
      "source": [
        "Here's the same operation expressed in a single line of code."
      ],
      "id": "surface-cincinnati"
    },
    {
      "cell_type": "code",
      "metadata": {
        "id": "dedicated-springer"
      },
      "source": [
        "data_list[get_index(data_list, 'Hemanth')] = ('Hemanth', '9595949494')"
      ],
      "id": "dedicated-springer",
      "execution_count": 26,
      "outputs": []
    },
    {
      "cell_type": "markdown",
      "metadata": {
        "id": "perceived-british"
      },
      "source": [
        "#### Find\n",
        "\n",
        "The retrieve the value associated with a pair, we can get the hash of the key and look up that index in the data list."
      ],
      "id": "perceived-british"
    },
    {
      "cell_type": "code",
      "metadata": {
        "colab": {
          "base_uri": "https://localhost:8080/"
        },
        "id": "leading-approval",
        "outputId": "eae65ca5-2d51-49a3-99be-e32c6ad32aab"
      },
      "source": [
        "idx = get_index(data_list, 'Hemanth')\n",
        "idx"
      ],
      "id": "leading-approval",
      "execution_count": 27,
      "outputs": [
        {
          "output_type": "execute_result",
          "data": {
            "text/plain": [
              "709"
            ]
          },
          "metadata": {
            "tags": []
          },
          "execution_count": 27
        }
      ]
    },
    {
      "cell_type": "code",
      "metadata": {
        "colab": {
          "base_uri": "https://localhost:8080/",
          "height": 35
        },
        "id": "alleged-beginning",
        "outputId": "f90a6b43-4d2f-46db-d417-353df4562c62"
      },
      "source": [
        "#value = data_list[idx]\n",
        "key, value = data_list[idx]\n",
        "value\n"
      ],
      "id": "alleged-beginning",
      "execution_count": 28,
      "outputs": [
        {
          "output_type": "execute_result",
          "data": {
            "application/vnd.google.colaboratory.intrinsic+json": {
              "type": "string"
            },
            "text/plain": [
              "'9595949494'"
            ]
          },
          "metadata": {
            "tags": []
          },
          "execution_count": 28
        }
      ]
    },
    {
      "cell_type": "markdown",
      "metadata": {
        "id": "psychological-suspect"
      },
      "source": [
        "#### List\n",
        "\n",
        "To get the list of keys, we can use a simple [list comprehension](https://www.w3schools.com/python/python_lists_comprehension.asp)."
      ],
      "id": "psychological-suspect"
    },
    {
      "cell_type": "code",
      "metadata": {
        "id": "advance-collar"
      },
      "source": [
        "pairs = [kv[0] for kv in data_list if kv is not None]"
      ],
      "id": "advance-collar",
      "execution_count": 29,
      "outputs": []
    },
    {
      "cell_type": "code",
      "metadata": {
        "colab": {
          "base_uri": "https://localhost:8080/"
        },
        "id": "automated-debut",
        "outputId": "f728f718-6945-4a71-93b6-2faef97b56b6"
      },
      "source": [
        "pairs"
      ],
      "id": "automated-debut",
      "execution_count": 30,
      "outputs": [
        {
          "output_type": "execute_result",
          "data": {
            "text/plain": [
              "['Aakash', 'Hemanth']"
            ]
          },
          "metadata": {
            "tags": []
          },
          "execution_count": 30
        }
      ]
    },
    {
      "cell_type": "markdown",
      "metadata": {
        "id": "intellectual-overall"
      },
      "source": [
        "Let's save our work before continuing."
      ],
      "id": "intellectual-overall"
    },
    {
      "cell_type": "code",
      "metadata": {
        "colab": {
          "base_uri": "https://localhost:8080/",
          "height": 103
        },
        "id": "disabled-indie",
        "outputId": "4779268f-1d1b-4a39-8e4c-1737f5c4107e"
      },
      "source": [
        "jovian.commit(project=project)"
      ],
      "id": "disabled-indie",
      "execution_count": 31,
      "outputs": [
        {
          "output_type": "stream",
          "text": [
            "[jovian] Detected Colab notebook...\u001b[0m\n",
            "[jovian] Uploading colab notebook to Jovian...\u001b[0m\n",
            "[jovian] Capturing environment..\u001b[0m\n",
            "[jovian] Committed successfully! https://jovian.ai/michellebarbosa789/python-hash-tables-assignment\u001b[0m\n"
          ],
          "name": "stdout"
        },
        {
          "output_type": "execute_result",
          "data": {
            "application/vnd.google.colaboratory.intrinsic+json": {
              "type": "string"
            },
            "text/plain": [
              "'https://jovian.ai/michellebarbosa789/python-hash-tables-assignment'"
            ]
          },
          "metadata": {
            "tags": []
          },
          "execution_count": 31
        }
      ]
    },
    {
      "cell_type": "markdown",
      "metadata": {
        "id": "mediterranean-scottish"
      },
      "source": [
        "### Basic Hash Table Implementation\n",
        "\n",
        "We can now use the hashing function defined above to implement a basic hash table in Python.\n",
        "\n",
        "\n",
        "**QUESTION 3: Complete the hash table implementation below by following the instructions in the comments.**\n",
        "\n",
        "_Hint_: Insert and update can have identical implementations.\n"
      ],
      "id": "mediterranean-scottish"
    },
    {
      "cell_type": "code",
      "metadata": {
        "id": "alternative-specialist"
      },
      "source": [
        "class BasicHashTable:\n",
        "    def __init__(self, max_size=MAX_HASH_TABLE_SIZE):\n",
        "        # 1. Create a list of size `max_size` with all values None\n",
        "        self.data_list = [None] * max_size\n",
        "     \n",
        "    \n",
        "    def insert(self, key, value):\n",
        "        # 1. Find the index for the key using get_index\n",
        "        idx = get_index(self.data_list, key)\n",
        "        \n",
        "        # 2. Store the key-value pair at the right index\n",
        "        self.data_list[idx] = (key, value)\n",
        "    \n",
        "    \n",
        "    def find(self, key):\n",
        "        # 1. Find the index for the key using get_index\n",
        "        idx = get_index(self.data_list, key)\n",
        "        \n",
        "        # 2. Retrieve the data stored at the index\n",
        "        kv = self.data_list[idx]\n",
        "        \n",
        "        # 3. Return the value if found, else return None\n",
        "        if kv is None:\n",
        "            return None\n",
        "        else:\n",
        "            key, value = kv\n",
        "            return value\n",
        "    \n",
        "    \n",
        "    def update(self, key, value):\n",
        "        # 1. Find the index for the key using get_index\n",
        "        idx = get_index(self.data_list, key)\n",
        "        # 2. Store the new key-value pair at the right index\n",
        "        self.data_list[idx] = (key, value)\n",
        "\n",
        "    \n",
        "    def list_all(self):\n",
        "        # 1. Extract the key from each key-value pair \n",
        "        return [kv[0] for kv in self.data_list if kv is not None]"
      ],
      "id": "alternative-specialist",
      "execution_count": 32,
      "outputs": []
    },
    {
      "cell_type": "markdown",
      "metadata": {
        "id": "unable-intermediate"
      },
      "source": [
        "If the `BasicHashTable` class was defined correctly, the following cells should output `True`."
      ],
      "id": "unable-intermediate"
    },
    {
      "cell_type": "code",
      "metadata": {
        "colab": {
          "base_uri": "https://localhost:8080/"
        },
        "id": "radio-trademark",
        "outputId": "ac318090-b2e1-4165-e7ec-a10be41a133a"
      },
      "source": [
        "basic_table = BasicHashTable(max_size=1024)\n",
        "len(basic_table.data_list) == 1024"
      ],
      "id": "radio-trademark",
      "execution_count": 33,
      "outputs": [
        {
          "output_type": "execute_result",
          "data": {
            "text/plain": [
              "True"
            ]
          },
          "metadata": {
            "tags": []
          },
          "execution_count": 33
        }
      ]
    },
    {
      "cell_type": "code",
      "metadata": {
        "colab": {
          "base_uri": "https://localhost:8080/"
        },
        "id": "sound-twelve",
        "outputId": "b5829516-03cf-4054-aa5e-95a64b3f7cbb"
      },
      "source": [
        "# Insert some values\n",
        "basic_table.insert('Aakash', '9999999999')\n",
        "basic_table.insert('Hemanth', '8888888888')\n",
        "\n",
        "# Find a value\n",
        "basic_table.find('Hemanth') == '8888888888'"
      ],
      "id": "sound-twelve",
      "execution_count": 34,
      "outputs": [
        {
          "output_type": "execute_result",
          "data": {
            "text/plain": [
              "True"
            ]
          },
          "metadata": {
            "tags": []
          },
          "execution_count": 34
        }
      ]
    },
    {
      "cell_type": "code",
      "metadata": {
        "colab": {
          "base_uri": "https://localhost:8080/"
        },
        "id": "physical-sheriff",
        "outputId": "a005bb97-9af6-4000-8939-73dbeca677e1"
      },
      "source": [
        "# Update a value\n",
        "basic_table.update('Aakash', '7777777777')\n",
        "\n",
        "# Check the updated value\n",
        "basic_table.find('Aakash') == '7777777777'"
      ],
      "id": "physical-sheriff",
      "execution_count": 35,
      "outputs": [
        {
          "output_type": "execute_result",
          "data": {
            "text/plain": [
              "True"
            ]
          },
          "metadata": {
            "tags": []
          },
          "execution_count": 35
        }
      ]
    },
    {
      "cell_type": "code",
      "metadata": {
        "colab": {
          "base_uri": "https://localhost:8080/"
        },
        "id": "reported-monaco",
        "outputId": "698154d7-70cc-409d-fe8e-c676b0ff1632"
      },
      "source": [
        "# Get the list of keys\n",
        "basic_table.list_all() == ['Aakash', 'Hemanth']"
      ],
      "id": "reported-monaco",
      "execution_count": 36,
      "outputs": [
        {
          "output_type": "execute_result",
          "data": {
            "text/plain": [
              "True"
            ]
          },
          "metadata": {
            "tags": []
          },
          "execution_count": 36
        }
      ]
    },
    {
      "cell_type": "markdown",
      "metadata": {
        "id": "personalized-bullet"
      },
      "source": [
        "(Optional) Test your implementation of `BasicHashTable` with some more examples below."
      ],
      "id": "personalized-bullet"
    },
    {
      "cell_type": "code",
      "metadata": {
        "id": "later-kitty"
      },
      "source": [
        ""
      ],
      "id": "later-kitty",
      "execution_count": 36,
      "outputs": []
    },
    {
      "cell_type": "code",
      "metadata": {
        "id": "upset-circumstances"
      },
      "source": [
        ""
      ],
      "id": "upset-circumstances",
      "execution_count": 36,
      "outputs": []
    },
    {
      "cell_type": "code",
      "metadata": {
        "id": "wired-legislation"
      },
      "source": [
        ""
      ],
      "id": "wired-legislation",
      "execution_count": 36,
      "outputs": []
    },
    {
      "cell_type": "markdown",
      "metadata": {
        "id": "lesser-funds"
      },
      "source": [
        "Let's save our work before continuing."
      ],
      "id": "lesser-funds"
    },
    {
      "cell_type": "code",
      "metadata": {
        "colab": {
          "base_uri": "https://localhost:8080/",
          "height": 103
        },
        "id": "several-banner",
        "outputId": "648a61d7-4737-4011-f352-3fb99327b21a"
      },
      "source": [
        "jovian.commit(project=project)"
      ],
      "id": "several-banner",
      "execution_count": 37,
      "outputs": [
        {
          "output_type": "stream",
          "text": [
            "[jovian] Detected Colab notebook...\u001b[0m\n",
            "[jovian] Uploading colab notebook to Jovian...\u001b[0m\n",
            "[jovian] Capturing environment..\u001b[0m\n",
            "[jovian] Committed successfully! https://jovian.ai/michellebarbosa789/python-hash-tables-assignment\u001b[0m\n"
          ],
          "name": "stdout"
        },
        {
          "output_type": "execute_result",
          "data": {
            "application/vnd.google.colaboratory.intrinsic+json": {
              "type": "string"
            },
            "text/plain": [
              "'https://jovian.ai/michellebarbosa789/python-hash-tables-assignment'"
            ]
          },
          "metadata": {
            "tags": []
          },
          "execution_count": 37
        }
      ]
    },
    {
      "cell_type": "markdown",
      "metadata": {
        "id": "impaired-grenada"
      },
      "source": [
        "### Handling Collisions with Linear Probing\n",
        "\n",
        "As you might have wondered, multiple keys can have the same hash. For instance, the keys `\"listen\"` and `\"silent\"` have the same hash. This is referred to as _collision_. Data stored against one key may override the data stored against another, if they have the same hash.\n"
      ],
      "id": "impaired-grenada"
    },
    {
      "cell_type": "code",
      "metadata": {
        "id": "supported-albert"
      },
      "source": [
        "basic_table.insert('listen', 99)"
      ],
      "id": "supported-albert",
      "execution_count": 38,
      "outputs": []
    },
    {
      "cell_type": "code",
      "metadata": {
        "id": "former-romance"
      },
      "source": [
        "basic_table.insert('silent', 200)"
      ],
      "id": "former-romance",
      "execution_count": 39,
      "outputs": []
    },
    {
      "cell_type": "code",
      "metadata": {
        "id": "planned-berkeley",
        "colab": {
          "base_uri": "https://localhost:8080/"
        },
        "outputId": "dbcf0dd9-637b-499f-ceb7-e094fe5211d9"
      },
      "source": [
        "basic_table.find('listen')"
      ],
      "id": "planned-berkeley",
      "execution_count": 40,
      "outputs": [
        {
          "output_type": "execute_result",
          "data": {
            "text/plain": [
              "200"
            ]
          },
          "metadata": {
            "tags": []
          },
          "execution_count": 40
        }
      ]
    },
    {
      "cell_type": "markdown",
      "metadata": {
        "id": "fewer-boating"
      },
      "source": [
        "As you can see above, the value for the key `listen` was overwritten by the value for the key `silent`. Our hash table implementation is incomplete because it does not handle collisions correctly.\n",
        "\n",
        "To handle collisions we'll use a technique called linear probing. Here's how it works: \n",
        "\n",
        "1. While inserting a new key-value pair if the target index for a key is occupied by another key, then we try the next index, followed by the next and so on till we the closest empty location.\n",
        "\n",
        "2. While finding a key-value pair, we apply the same strategy, but instead of searching for an empty location, we look for a location which contains a key-value pair with the matching key.\n",
        "\n",
        "2. While updating a key-value pair, we apply the same strategy, but instead of searching for an empty location, we look for a location which contains a key-value pair with the matching key, and update its value.\n",
        "\n",
        "\n",
        "We'll define a function called `get_valid_index`, which starts searching the data list from the index determined by the hashing function `get_index` and returns the first index which is either empty or contains a key-value pair matching the given key.\n",
        "\n",
        "**QUESTION 4: Complete the function `get_valid_index` below by following the instructions in the comments.**"
      ],
      "id": "fewer-boating"
    },
    {
      "cell_type": "code",
      "metadata": {
        "id": "flush-exchange"
      },
      "source": [
        "def get_valid_index(data_list, key):\n",
        "    # Start with the index returned by get_index\n",
        "    idx = get_index(data_list, key)\n",
        "    \n",
        "    while True:\n",
        "        # Get the key-value pair stored at idx\n",
        "        kv = data_list[idx]\n",
        "        \n",
        "        # If it is None, return the index\n",
        "        if kv == None:\n",
        "            return idx\n",
        "        \n",
        "        # If the stored key matches the given key, return the index\n",
        "        k, v = kv\n",
        "        if k == key:\n",
        "            return idx\n",
        "        \n",
        "        # Move to the next index\n",
        "        idx += 1\n",
        "        \n",
        "        # Go back to the start if you have reached the end of the array\n",
        "        if idx == len(data_list):\n",
        "            idx = 0"
      ],
      "id": "flush-exchange",
      "execution_count": 88,
      "outputs": []
    },
    {
      "cell_type": "code",
      "metadata": {
        "id": "dominican-method"
      },
      "source": [
        ""
      ],
      "id": "dominican-method",
      "execution_count": 41,
      "outputs": []
    },
    {
      "cell_type": "markdown",
      "metadata": {
        "id": "blocked-democrat"
      },
      "source": [
        "If `get_valid_index` was defined correctly, the following cells should output `True`."
      ],
      "id": "blocked-democrat"
    },
    {
      "cell_type": "code",
      "metadata": {
        "id": "norman-integer",
        "colab": {
          "base_uri": "https://localhost:8080/"
        },
        "outputId": "d47eae3c-f888-41ce-a05d-c2879e022684"
      },
      "source": [
        "# Create an empty hash table\n",
        "data_list2 = [None] * MAX_HASH_TABLE_SIZE\n",
        "\n",
        "# New key 'listen' should return expected index\n",
        "get_valid_index(data_list2, 'listen') == 655"
      ],
      "id": "norman-integer",
      "execution_count": 89,
      "outputs": [
        {
          "output_type": "execute_result",
          "data": {
            "text/plain": [
              "True"
            ]
          },
          "metadata": {
            "tags": []
          },
          "execution_count": 89
        }
      ]
    },
    {
      "cell_type": "code",
      "metadata": {
        "id": "blond-jesus",
        "colab": {
          "base_uri": "https://localhost:8080/"
        },
        "outputId": "e19bdf61-9c52-4d6f-f614-20f11643df35"
      },
      "source": [
        "# Insert a key-value pair for the key 'listen'\n",
        "data_list2[get_index(data_list2, 'listen')] = ('listen', 99)\n",
        "\n",
        "# Colliding key 'silent' should return next index\n",
        "get_valid_index(data_list2, 'silent') == 656"
      ],
      "id": "blond-jesus",
      "execution_count": 90,
      "outputs": [
        {
          "output_type": "execute_result",
          "data": {
            "text/plain": [
              "True"
            ]
          },
          "metadata": {
            "tags": []
          },
          "execution_count": 90
        }
      ]
    },
    {
      "cell_type": "markdown",
      "metadata": {
        "id": "greenhouse-detroit"
      },
      "source": [
        "(Optional) Test your implementation of `get_valid_index` on some more examples using the empty cells below."
      ],
      "id": "greenhouse-detroit"
    },
    {
      "cell_type": "code",
      "metadata": {
        "id": "unsigned-symbol"
      },
      "source": [
        ""
      ],
      "id": "unsigned-symbol",
      "execution_count": 43,
      "outputs": []
    },
    {
      "cell_type": "code",
      "metadata": {
        "id": "dominican-techno"
      },
      "source": [
        ""
      ],
      "id": "dominican-techno",
      "execution_count": 43,
      "outputs": []
    },
    {
      "cell_type": "code",
      "metadata": {
        "id": "guilty-saying"
      },
      "source": [
        ""
      ],
      "id": "guilty-saying",
      "execution_count": 43,
      "outputs": []
    },
    {
      "cell_type": "markdown",
      "metadata": {
        "id": "through-event"
      },
      "source": [
        "Let's save our work before continuing."
      ],
      "id": "through-event"
    },
    {
      "cell_type": "code",
      "metadata": {
        "id": "broke-canberra",
        "colab": {
          "base_uri": "https://localhost:8080/",
          "height": 103
        },
        "outputId": "39f17e63-e88b-4bca-91a9-bc26388438d2"
      },
      "source": [
        "jovian.commit(project=project)"
      ],
      "id": "broke-canberra",
      "execution_count": 44,
      "outputs": [
        {
          "output_type": "stream",
          "text": [
            "[jovian] Detected Colab notebook...\u001b[0m\n",
            "[jovian] Uploading colab notebook to Jovian...\u001b[0m\n",
            "[jovian] Capturing environment..\u001b[0m\n",
            "[jovian] Committed successfully! https://jovian.ai/michellebarbosa789/python-hash-tables-assignment\u001b[0m\n"
          ],
          "name": "stdout"
        },
        {
          "output_type": "execute_result",
          "data": {
            "application/vnd.google.colaboratory.intrinsic+json": {
              "type": "string"
            },
            "text/plain": [
              "'https://jovian.ai/michellebarbosa789/python-hash-tables-assignment'"
            ]
          },
          "metadata": {
            "tags": []
          },
          "execution_count": 44
        }
      ]
    },
    {
      "cell_type": "markdown",
      "metadata": {
        "id": "pretty-journalism"
      },
      "source": [
        "### Hash Table with Linear Probing\n",
        "\n",
        "We can now implement a hash table with linear probing.\n",
        "\n",
        "**QUESTION 5: Complete the hash table (with linear probing) implementation below by following the instructions in the comments.**"
      ],
      "id": "pretty-journalism"
    },
    {
      "cell_type": "code",
      "metadata": {
        "id": "classified-amount"
      },
      "source": [
        "class ProbingHashTable:\n",
        "    def __init__(self, max_size=MAX_HASH_TABLE_SIZE):\n",
        "        # 1. Create a list of size `max_size` with all values None\n",
        "        self.data_list = [None] * max_size\n",
        "     \n",
        "    \n",
        "    def insert(self, key, value):\n",
        "        # 1. Find the index for the key using get_valid_index\n",
        "        idx = get_valid_index(self.data_list, key)\n",
        "        \n",
        "        # 2. Store the key-value pair at the right index\n",
        "        self.data_list[idx] = (key, value)\n",
        "    \n",
        "    \n",
        "    def find(self, key):\n",
        "        # 1. Find the index for the key using get_valid_index\n",
        "        idx = get_valid_index(self.data_list, key)\n",
        "        \n",
        "        # 2. Retrieve the data stored at the index\n",
        "        kv = self.data_list[idx]\n",
        "        \n",
        "        # 3. Return the value if found, else return None\n",
        "        return None if kv is None else kv[1]\n",
        "    \n",
        "    \n",
        "    def update(self, key, value):\n",
        "        # 1. Find the index for the key using get_valid_index\n",
        "        idx =  get_valid_index(self.data_list, key)\n",
        "        \n",
        "        # 2. Store the new key-value pair at the right index\n",
        "        self.data_list[idx] = (key, value)\n",
        "\n",
        "    \n",
        "    def list_all(self):\n",
        "        # 1. Extract the key from each key-value pair \n",
        "        return [kv[0] for kv in self.data_list if kv is not None]"
      ],
      "id": "classified-amount",
      "execution_count": 86,
      "outputs": []
    },
    {
      "cell_type": "markdown",
      "metadata": {
        "id": "eleven-piece"
      },
      "source": [
        "If the `ProbingHashTable` class was defined correctly, the following cells should output `True`."
      ],
      "id": "eleven-piece"
    },
    {
      "cell_type": "code",
      "metadata": {
        "id": "configured-pregnancy",
        "colab": {
          "base_uri": "https://localhost:8080/"
        },
        "outputId": "1d7f492c-40cc-494f-b520-5e1faa2784e0"
      },
      "source": [
        "# Create a new hash table\n",
        "probing_table = ProbingHashTable()\n",
        "\n",
        "# Insert a value\n",
        "probing_table.insert('listen', 99)\n",
        "\n",
        "# Check the value\n",
        "probing_table.find('listen') == 99"
      ],
      "id": "configured-pregnancy",
      "execution_count": 91,
      "outputs": [
        {
          "output_type": "execute_result",
          "data": {
            "text/plain": [
              "True"
            ]
          },
          "metadata": {
            "tags": []
          },
          "execution_count": 91
        }
      ]
    },
    {
      "cell_type": "code",
      "metadata": {
        "id": "alpine-president",
        "colab": {
          "base_uri": "https://localhost:8080/"
        },
        "outputId": "4bdca9ea-d417-4c49-8ca2-befe1d333381"
      },
      "source": [
        "# Insert a colliding key\n",
        "probing_table.insert('silent', 200)\n",
        "\n",
        "# Check the new and old keys\n",
        "probing_table.find('listen') == 99 and probing_table.find('silent') == 200"
      ],
      "id": "alpine-president",
      "execution_count": 92,
      "outputs": [
        {
          "output_type": "execute_result",
          "data": {
            "text/plain": [
              "True"
            ]
          },
          "metadata": {
            "tags": []
          },
          "execution_count": 92
        }
      ]
    },
    {
      "cell_type": "code",
      "metadata": {
        "id": "compact-narrative",
        "colab": {
          "base_uri": "https://localhost:8080/"
        },
        "outputId": "4a74e6a5-d2d8-448b-ea1d-b46397f96182"
      },
      "source": [
        "# Update a key\n",
        "probing_table.insert('listen', 101)\n",
        "\n",
        "# Check the value\n",
        "probing_table.find('listen') == 101"
      ],
      "id": "compact-narrative",
      "execution_count": 93,
      "outputs": [
        {
          "output_type": "execute_result",
          "data": {
            "text/plain": [
              "True"
            ]
          },
          "metadata": {
            "tags": []
          },
          "execution_count": 93
        }
      ]
    },
    {
      "cell_type": "code",
      "metadata": {
        "id": "searching-newfoundland",
        "colab": {
          "base_uri": "https://localhost:8080/"
        },
        "outputId": "28d1e839-7bd6-4b86-ff61-9f3bf3fba984"
      },
      "source": [
        "probing_table.list_all() == ['listen', 'silent']"
      ],
      "id": "searching-newfoundland",
      "execution_count": 94,
      "outputs": [
        {
          "output_type": "execute_result",
          "data": {
            "text/plain": [
              "True"
            ]
          },
          "metadata": {
            "tags": []
          },
          "execution_count": 94
        }
      ]
    },
    {
      "cell_type": "markdown",
      "metadata": {
        "id": "imperial-satellite"
      },
      "source": [
        "(Optional) Test your implementation of `ProbingHashTable` using the empty cells below."
      ],
      "id": "imperial-satellite"
    },
    {
      "cell_type": "code",
      "metadata": {
        "id": "formed-probe"
      },
      "source": [
        ""
      ],
      "id": "formed-probe",
      "execution_count": 49,
      "outputs": []
    },
    {
      "cell_type": "code",
      "metadata": {
        "id": "relevant-greensboro"
      },
      "source": [
        ""
      ],
      "id": "relevant-greensboro",
      "execution_count": 49,
      "outputs": []
    },
    {
      "cell_type": "code",
      "metadata": {
        "id": "polish-update"
      },
      "source": [
        ""
      ],
      "id": "polish-update",
      "execution_count": 49,
      "outputs": []
    },
    {
      "cell_type": "markdown",
      "metadata": {
        "id": "intended-cartridge"
      },
      "source": [
        "Save your work before continuing."
      ],
      "id": "intended-cartridge"
    },
    {
      "cell_type": "code",
      "metadata": {
        "id": "bright-limitation",
        "colab": {
          "base_uri": "https://localhost:8080/",
          "height": 103
        },
        "outputId": "76a33f50-5b8c-425a-8d0f-90dd3d62a317"
      },
      "source": [
        "jovian.commit(project=project)"
      ],
      "id": "bright-limitation",
      "execution_count": 50,
      "outputs": [
        {
          "output_type": "stream",
          "text": [
            "[jovian] Detected Colab notebook...\u001b[0m\n",
            "[jovian] Uploading colab notebook to Jovian...\u001b[0m\n",
            "[jovian] Capturing environment..\u001b[0m\n",
            "[jovian] Committed successfully! https://jovian.ai/michellebarbosa789/python-hash-tables-assignment\u001b[0m\n"
          ],
          "name": "stdout"
        },
        {
          "output_type": "execute_result",
          "data": {
            "application/vnd.google.colaboratory.intrinsic+json": {
              "type": "string"
            },
            "text/plain": [
              "'https://jovian.ai/michellebarbosa789/python-hash-tables-assignment'"
            ]
          },
          "metadata": {
            "tags": []
          },
          "execution_count": 50
        }
      ]
    },
    {
      "cell_type": "markdown",
      "metadata": {
        "id": "grand-suspect"
      },
      "source": [
        "### Make a Submission\n",
        "\n",
        "Congrats! You have now implemented hash tables from scratch. The rest of this assignment is optional. \n",
        "\n",
        "You can make a submission on this page: https://jovian.ai/learn/data-structures-and-algorithms-in-python/assignment/assignment-2-hash-table-and-python-dictionaries . Submit the link to your Jovian notebook (the output of the previous cell).\n",
        "\n",
        "\n",
        "You can also make a direct submission by executing the following cell:"
      ],
      "id": "grand-suspect"
    },
    {
      "cell_type": "code",
      "metadata": {
        "id": "infinite-easter",
        "colab": {
          "base_uri": "https://localhost:8080/"
        },
        "outputId": "a4e41df1-dd60-4749-f62f-651ae83d1353"
      },
      "source": [
        "jovian.submit(assignment=\"pythondsa-assignment2\")"
      ],
      "id": "infinite-easter",
      "execution_count": 51,
      "outputs": [
        {
          "output_type": "stream",
          "text": [
            "[jovian] Detected Colab notebook...\u001b[0m\n",
            "[jovian] Uploading colab notebook to Jovian...\u001b[0m\n",
            "[jovian] Capturing environment..\u001b[0m\n",
            "[jovian] Committed successfully! https://jovian.ai/michellebarbosa789/python-hash-tables-assignment\u001b[0m\n",
            "[jovian] Submitting assignment..\u001b[0m\n",
            "[jovian] Verify your submission at https://jovian.ai/learn/data-structures-and-algorithms-in-python/assignment/assignment-2-hash-table-and-python-dictionaries\u001b[0m\n"
          ],
          "name": "stdout"
        }
      ]
    },
    {
      "cell_type": "markdown",
      "metadata": {
        "id": "downtown-doctor"
      },
      "source": [
        "If you are stuck, you can get help on the forum: https://jovian.ai/forum/c/data-structures-and-algorithms-in-python/assignment-2/88"
      ],
      "id": "downtown-doctor"
    },
    {
      "cell_type": "markdown",
      "metadata": {
        "id": "verbal-study"
      },
      "source": [
        "### (Optional) Python Dictionaries using Hash Tables\n",
        "\n",
        "We can now implement Python dictionaries using hash tables. Also, Python provides a built-in function called `hash` which we can use instead of our custom hash function. It is likely to have far fewer collisions\n",
        "\n",
        "**(Optional) Question: Implement a python-friendly interface for the hash table.**"
      ],
      "id": "verbal-study"
    },
    {
      "cell_type": "code",
      "metadata": {
        "id": "dominican-press"
      },
      "source": [
        "MAX_HASH_TABLE_SIZE = 4096\n",
        "\n",
        "class HashTable:\n",
        "    def __init__(self, max_size=MAX_HASH_TABLE_SIZE):\n",
        "        self.data_list = [None] * max_size\n",
        "        \n",
        "    def get_valid_index(self, key):\n",
        "        # Use Python's in-built `hash` function and implement linear probing\n",
        "        pass # change this\n",
        "        \n",
        "    def __getitem__(self, key):\n",
        "        # Implement the logic for \"find\" here\n",
        "        pass # change this\n",
        "    \n",
        "    def __setitem__(self, key, value):\n",
        "        # Implement the logic for \"insert/update\" here\n",
        "        pass # change this\n",
        "    \n",
        "    def __iter__(self):\n",
        "        return (x for x in self.data_list if x is not None)\n",
        "    \n",
        "    def __len__(self):\n",
        "        return len([x for x in self])\n",
        "    \n",
        "    def __repr__(self):\n",
        "        from textwrap import indent\n",
        "        pairs = [indent(\"{} : {}\".format(repr(kv[0]), repr(kv[1])), '  ') for kv in self]\n",
        "        return \"{\\n\" + \"{}\".format(',\\n'.join(pairs)) + \"\\n}\"\n",
        "    \n",
        "    def __str__(self):\n",
        "        return repr(self)"
      ],
      "id": "dominican-press",
      "execution_count": 52,
      "outputs": []
    },
    {
      "cell_type": "markdown",
      "metadata": {
        "id": "cooperative-sense"
      },
      "source": [
        "If the `HashTable` class was defined correctly, the following cells should output `True`."
      ],
      "id": "cooperative-sense"
    },
    {
      "cell_type": "code",
      "metadata": {
        "id": "provincial-healthcare",
        "colab": {
          "base_uri": "https://localhost:8080/"
        },
        "outputId": "bb179016-8e48-4c1e-9a85-c9c558555d4d"
      },
      "source": [
        "# Create a hash table\n",
        "table = HashTable()\n",
        "\n",
        "# Insert some key-value pairs\n",
        "table['a'] = 1\n",
        "table['b'] = 34\n",
        "\n",
        "# Retrieve the inserted values\n",
        "table['a'] == 1 and table['b'] == 34"
      ],
      "id": "provincial-healthcare",
      "execution_count": 53,
      "outputs": [
        {
          "output_type": "execute_result",
          "data": {
            "text/plain": [
              "False"
            ]
          },
          "metadata": {
            "tags": []
          },
          "execution_count": 53
        }
      ]
    },
    {
      "cell_type": "code",
      "metadata": {
        "id": "waiting-cleanup",
        "colab": {
          "base_uri": "https://localhost:8080/"
        },
        "outputId": "2b9186b9-c061-433c-f421-cde67f22a370"
      },
      "source": [
        "# Update a value\n",
        "table['a'] = 99\n",
        "\n",
        "# Check the updated value\n",
        "table['a'] == 99"
      ],
      "id": "waiting-cleanup",
      "execution_count": 54,
      "outputs": [
        {
          "output_type": "execute_result",
          "data": {
            "text/plain": [
              "False"
            ]
          },
          "metadata": {
            "tags": []
          },
          "execution_count": 54
        }
      ]
    },
    {
      "cell_type": "code",
      "metadata": {
        "id": "transsexual-karma",
        "colab": {
          "base_uri": "https://localhost:8080/"
        },
        "outputId": "e45f24f2-ffb1-488f-a7a5-d06e2da4ad7d"
      },
      "source": [
        "# Get a list of key-value pairs\n",
        "list(table) == [('a', 99), ('b', 34)]"
      ],
      "id": "transsexual-karma",
      "execution_count": 55,
      "outputs": [
        {
          "output_type": "execute_result",
          "data": {
            "text/plain": [
              "False"
            ]
          },
          "metadata": {
            "tags": []
          },
          "execution_count": 55
        }
      ]
    },
    {
      "cell_type": "markdown",
      "metadata": {
        "id": "nasty-reservoir"
      },
      "source": [
        "Since we have also implemented the `__repr__` and `__str__` functions, the output of the next cell should be:\n",
        "\n",
        "```\n",
        "{\n",
        "  'a' : 99,\n",
        "  'b' : 34\n",
        "}\n",
        "```"
      ],
      "id": "nasty-reservoir"
    },
    {
      "cell_type": "code",
      "metadata": {
        "id": "racial-leadership",
        "colab": {
          "base_uri": "https://localhost:8080/"
        },
        "outputId": "1e65c861-abb2-4ff1-9c61-08414cb14364"
      },
      "source": [
        "table"
      ],
      "id": "racial-leadership",
      "execution_count": 56,
      "outputs": [
        {
          "output_type": "execute_result",
          "data": {
            "text/plain": [
              "{\n",
              "\n",
              "}"
            ]
          },
          "metadata": {
            "tags": []
          },
          "execution_count": 56
        }
      ]
    },
    {
      "cell_type": "markdown",
      "metadata": {
        "id": "american-swedish"
      },
      "source": [
        "Let's save our work before continuing."
      ],
      "id": "american-swedish"
    },
    {
      "cell_type": "code",
      "metadata": {
        "id": "exterior-chance"
      },
      "source": [
        "import jovian"
      ],
      "id": "exterior-chance",
      "execution_count": 57,
      "outputs": []
    },
    {
      "cell_type": "code",
      "metadata": {
        "id": "muslim-yield",
        "colab": {
          "base_uri": "https://localhost:8080/",
          "height": 0
        },
        "outputId": "92ee6ac6-865e-4192-d7bd-11d2a32b0d15"
      },
      "source": [
        "jovian.commit(project=project)"
      ],
      "id": "muslim-yield",
      "execution_count": 58,
      "outputs": [
        {
          "output_type": "stream",
          "text": [
            "[jovian] Detected Colab notebook...\u001b[0m\n",
            "[jovian] Uploading colab notebook to Jovian...\u001b[0m\n",
            "[jovian] Capturing environment..\u001b[0m\n",
            "[jovian] Committed successfully! https://jovian.ai/michellebarbosa789/python-hash-tables-assignment\u001b[0m\n"
          ],
          "name": "stdout"
        },
        {
          "output_type": "execute_result",
          "data": {
            "application/vnd.google.colaboratory.intrinsic+json": {
              "type": "string"
            },
            "text/plain": [
              "'https://jovian.ai/michellebarbosa789/python-hash-tables-assignment'"
            ]
          },
          "metadata": {
            "tags": []
          },
          "execution_count": 58
        }
      ]
    },
    {
      "cell_type": "markdown",
      "metadata": {
        "id": "adaptive-attraction"
      },
      "source": [
        "### (Optional) Hash Table Improvements\n",
        "\n",
        "Here are some more improvements/changes you can make to your hash table implementation:\n",
        "\n",
        "* **Track the size of the hash table** i.e. number of key-value pairs so that `len(table)` has complexity O(1).\n",
        "* **Implement deletion with tombstones** as described here: https://research.cs.vt.edu/AVresearch/hashing/deletion.php\n",
        "* **Implement dynamic resizing** to automatically grow/shrink the data list: https://charlesreid1.com/wiki/Hash_Maps/Dynamic_Resizing\n",
        "* **Implement separate chaining**, an alternative to linear probing for collision resolution: https://www.youtube.com/watch/T9gct6Dx-jo\n"
      ],
      "id": "adaptive-attraction"
    },
    {
      "cell_type": "markdown",
      "metadata": {
        "id": "boolean-letter"
      },
      "source": [
        "### (Optional) Complexity Analysis\n",
        "\n",
        "With choice of a good hashing function and other improvements like dynamic resizing, you can \n",
        "\n",
        "\n",
        "| Operation      | Average-case time complexity | Worst-case time complexity |\n",
        "| ----------- | ----------- |---------|\n",
        "| Insert/Update      | **O(1)**    | **O(n)**|\n",
        "| Find   | **O(1)**    | **O(n)**|\n",
        "| Delete   | **O(1)**    | **O(n)**|\n",
        "| List   | **O(n)**    | **O(n)**|\n",
        "\n",
        "\n",
        "Here are some questions to ponder upon?\n",
        "\n",
        "- What is average case complexity? How does it differ from worst-case complexity?\n",
        "- Do you see why insert/find/update have average-case complexity of O(1) and worst-case complexity of O(n) ?\n",
        "- How is the complexity of hash tables different from binary search trees?\n",
        "- When should you prefer using hash table over binary trees or vice versa?\n",
        "\n",
        "Discuss your answers on the forum: https://jovian.ai/forum/c/data-structures-and-algorithms-in-python/assignment-2/88"
      ],
      "id": "boolean-letter"
    }
  ]
}